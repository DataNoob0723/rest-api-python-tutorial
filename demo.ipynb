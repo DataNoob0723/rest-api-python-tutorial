{
 "cells": [
  {
   "cell_type": "code",
   "execution_count": 1,
   "metadata": {},
   "outputs": [],
   "source": [
    "import requests\n",
    "import json\n",
    "import pandas as pd"
   ]
  },
  {
   "cell_type": "markdown",
   "metadata": {},
   "source": [
    "# Generate authentication info"
   ]
  },
  {
   "cell_type": "code",
   "execution_count": 5,
   "metadata": {},
   "outputs": [],
   "source": [
    "base_url = \"http://localhost:8000/api/v1\"  # Replace this url with the actual url of your server\n",
    "token_generation_url = f\"{base_url}/login/access-token\"\n",
    "auth_info = {\n",
    "    \"username\": \"your_username\",\n",
    "    \"password\": \"your_password\"\n",
    "}\n",
    "r = requests.post(token_generation_url, data=auth_info)\n",
    "access_token = r.json()['access_token']\n",
    "headers = {\n",
    "    'accept': 'application/json',\n",
    "    'Authorization': 'Bearer ' + access_token\n",
    "}"
   ]
  },
  {
   "cell_type": "markdown",
   "metadata": {},
   "source": [
    "# Query data from DB"
   ]
  },
  {
   "cell_type": "markdown",
   "metadata": {},
   "source": [
    "### Retrive data from DB using table_name"
   ]
  },
  {
   "cell_type": "code",
   "execution_count": 8,
   "metadata": {},
   "outputs": [
    {
     "data": {
      "text/plain": [
       "[{'id': 1,\n",
       "  'sample_col1': 'a',\n",
       "  'sample_col2': 1,\n",
       "  'sample_col3': 1,\n",
       "  'sample_col4': -1,\n",
       "  'sample_col5': -0.1},\n",
       " {'id': 2,\n",
       "  'sample_col1': 'b',\n",
       "  'sample_col2': 2,\n",
       "  'sample_col3': 4,\n",
       "  'sample_col4': -4,\n",
       "  'sample_col5': -0.4},\n",
       " {'id': 3,\n",
       "  'sample_col1': 'c',\n",
       "  'sample_col2': 3,\n",
       "  'sample_col3': 9,\n",
       "  'sample_col4': -9,\n",
       "  'sample_col5': -0.9},\n",
       " {'id': 4,\n",
       "  'sample_col1': 'd',\n",
       "  'sample_col2': 4,\n",
       "  'sample_col3': 16,\n",
       "  'sample_col4': -16,\n",
       "  'sample_col5': -1.6},\n",
       " {'id': 5,\n",
       "  'sample_col1': 'e',\n",
       "  'sample_col2': 5,\n",
       "  'sample_col3': 25,\n",
       "  'sample_col4': -25,\n",
       "  'sample_col5': -2.5}]"
      ]
     },
     "execution_count": 8,
     "metadata": {},
     "output_type": "execute_result"
    }
   ],
   "source": [
    "table_name = 'exampletable4'\n",
    "retrieve_data_api = f\"{base_url}/queries/{table_name}\"\n",
    "payload = {'skip': 0, 'limit': 5}\n",
    "r = requests.get(retrieve_data_api, params=payload, headers=headers)\n",
    "r.json()"
   ]
  },
  {
   "cell_type": "markdown",
   "metadata": {},
   "source": [
    "### Retrieve column names for a table"
   ]
  },
  {
   "cell_type": "code",
   "execution_count": 9,
   "metadata": {},
   "outputs": [
    {
     "data": {
      "text/plain": [
       "{'column_names': ['id',\n",
       "  'sample_col1',\n",
       "  'sample_col2',\n",
       "  'sample_col3',\n",
       "  'sample_col4',\n",
       "  'sample_col5']}"
      ]
     },
     "execution_count": 9,
     "metadata": {},
     "output_type": "execute_result"
    }
   ],
   "source": [
    "retrieve_column_names_api = f\"{base_url}/queries/{table_name}/column-names\"\n",
    "r = requests.get(retrieve_column_names_api, headers=headers)\n",
    "r.json()"
   ]
  },
  {
   "cell_type": "markdown",
   "metadata": {},
   "source": [
    "### Only retrieve selected columns"
   ]
  },
  {
   "cell_type": "code",
   "execution_count": 10,
   "metadata": {},
   "outputs": [
    {
     "data": {
      "text/plain": [
       "[{'sample_col1': 'a', 'sample_col2': 1},\n",
       " {'sample_col1': 'b', 'sample_col2': 2},\n",
       " {'sample_col1': 'c', 'sample_col2': 3},\n",
       " {'sample_col1': 'd', 'sample_col2': 4},\n",
       " {'sample_col1': 'e', 'sample_col2': 5}]"
      ]
     },
     "execution_count": 10,
     "metadata": {},
     "output_type": "execute_result"
    }
   ],
   "source": [
    "payload = {'attr_names': ['sample_col1', 'sample_col2'], 'skip': 0, 'limit': 5}\n",
    "r = requests.get(retrieve_data_api, params=payload, headers=headers)\n",
    "r.json()"
   ]
  },
  {
   "cell_type": "markdown",
   "metadata": {},
   "source": [
    "### Query data from APIs and convert into a DataFrame"
   ]
  },
  {
   "cell_type": "code",
   "execution_count": 12,
   "metadata": {},
   "outputs": [],
   "source": [
    "total_num_of_records = r.json()['total_num_of_records']\n",
    "skip = 0\n",
    "limit = 1000\n",
    "df = pd.DataFrame()\n",
    "# Query several time to aviod too large data transfer issue.\n",
    "while skip < total_num_of_records:\n",
    "    payload = {'skip': skip, 'limit': limit}\n",
    "    r = requests.get(retrieve_data_api, params=payload, headers=headers)\n",
    "    if r.status_code == 200:\n",
    "        df = df.append(pd.DataFrame(r.json()))\n",
    "    else:\n",
    "        print(\"Data query failed!\")\n",
    "    skip = skip + limit"
   ]
  },
  {
   "cell_type": "code",
   "execution_count": 13,
   "metadata": {},
   "outputs": [
    {
     "data": {
      "text/html": [
       "<div>\n",
       "<style scoped>\n",
       "    .dataframe tbody tr th:only-of-type {\n",
       "        vertical-align: middle;\n",
       "    }\n",
       "\n",
       "    .dataframe tbody tr th {\n",
       "        vertical-align: top;\n",
       "    }\n",
       "\n",
       "    .dataframe thead th {\n",
       "        text-align: right;\n",
       "    }\n",
       "</style>\n",
       "<table border=\"1\" class=\"dataframe\">\n",
       "  <thead>\n",
       "    <tr style=\"text-align: right;\">\n",
       "      <th></th>\n",
       "      <th>id</th>\n",
       "      <th>sample_col1</th>\n",
       "      <th>sample_col2</th>\n",
       "      <th>sample_col3</th>\n",
       "      <th>sample_col4</th>\n",
       "      <th>sample_col5</th>\n",
       "    </tr>\n",
       "  </thead>\n",
       "  <tbody>\n",
       "    <tr>\n",
       "      <th>0</th>\n",
       "      <td>1</td>\n",
       "      <td>a</td>\n",
       "      <td>1</td>\n",
       "      <td>1</td>\n",
       "      <td>-1</td>\n",
       "      <td>-0.1</td>\n",
       "    </tr>\n",
       "    <tr>\n",
       "      <th>1</th>\n",
       "      <td>2</td>\n",
       "      <td>b</td>\n",
       "      <td>2</td>\n",
       "      <td>4</td>\n",
       "      <td>-4</td>\n",
       "      <td>-0.4</td>\n",
       "    </tr>\n",
       "    <tr>\n",
       "      <th>2</th>\n",
       "      <td>3</td>\n",
       "      <td>c</td>\n",
       "      <td>3</td>\n",
       "      <td>9</td>\n",
       "      <td>-9</td>\n",
       "      <td>-0.9</td>\n",
       "    </tr>\n",
       "    <tr>\n",
       "      <th>3</th>\n",
       "      <td>4</td>\n",
       "      <td>d</td>\n",
       "      <td>4</td>\n",
       "      <td>16</td>\n",
       "      <td>-16</td>\n",
       "      <td>-1.6</td>\n",
       "    </tr>\n",
       "    <tr>\n",
       "      <th>4</th>\n",
       "      <td>5</td>\n",
       "      <td>e</td>\n",
       "      <td>5</td>\n",
       "      <td>25</td>\n",
       "      <td>-25</td>\n",
       "      <td>-2.5</td>\n",
       "    </tr>\n",
       "    <tr>\n",
       "      <th>5</th>\n",
       "      <td>6</td>\n",
       "      <td>f</td>\n",
       "      <td>6</td>\n",
       "      <td>36</td>\n",
       "      <td>-36</td>\n",
       "      <td>-3.6</td>\n",
       "    </tr>\n",
       "    <tr>\n",
       "      <th>6</th>\n",
       "      <td>7</td>\n",
       "      <td>g</td>\n",
       "      <td>7</td>\n",
       "      <td>49</td>\n",
       "      <td>-49</td>\n",
       "      <td>-4.9</td>\n",
       "    </tr>\n",
       "  </tbody>\n",
       "</table>\n",
       "</div>"
      ],
      "text/plain": [
       "   id sample_col1  sample_col2  sample_col3  sample_col4  sample_col5\n",
       "0   1           a            1            1           -1         -0.1\n",
       "1   2           b            2            4           -4         -0.4\n",
       "2   3           c            3            9           -9         -0.9\n",
       "3   4           d            4           16          -16         -1.6\n",
       "4   5           e            5           25          -25         -2.5\n",
       "5   6           f            6           36          -36         -3.6\n",
       "6   7           g            7           49          -49         -4.9"
      ]
     },
     "execution_count": 13,
     "metadata": {},
     "output_type": "execute_result"
    }
   ],
   "source": [
    "df"
   ]
  },
  {
   "cell_type": "code",
   "execution_count": null,
   "metadata": {},
   "outputs": [],
   "source": []
  },
  {
   "cell_type": "code",
   "execution_count": null,
   "metadata": {},
   "outputs": [],
   "source": []
  }
 ],
 "metadata": {
  "kernelspec": {
   "display_name": "Python 3",
   "language": "python",
   "name": "python3"
  },
  "language_info": {
   "codemirror_mode": {
    "name": "ipython",
    "version": 3
   },
   "file_extension": ".py",
   "mimetype": "text/x-python",
   "name": "python",
   "nbconvert_exporter": "python",
   "pygments_lexer": "ipython3",
   "version": "3.7.4"
  }
 },
 "nbformat": 4,
 "nbformat_minor": 2
}
